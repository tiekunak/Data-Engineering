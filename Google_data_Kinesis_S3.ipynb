{
 "cells": [
  {
   "cell_type": "code",
   "execution_count": null,
   "id": "fb9ecbfe",
   "metadata": {},
   "outputs": [],
   "source": [
    "import boto3\n",
    "import requests\n",
    "import json\n",
    "import time\n",
    "import base64\n",
    "import uuid\n",
    "from googleplaces import GooglePlaces, types\n",
    "\n",
    "\n",
    "# Step 1: Set up your environment\n",
    "AWS_ACCESS_KEY_ID = 'access_key'\n",
    "AWS_SECRET_ACCESS_KEY = 'secret_access_key'\n",
    "REGION_NAME = 'region_name'\n",
    "API_KEY = 'google_api_key'\n",
    "\n",
    "\n",
    "def get_restaurant_data():\n",
    "    google_places = GooglePlaces(API_KEY)\n",
    "    query_result = google_places.nearby_search(\n",
    "        location='Paris', keyword='Restaurants',\n",
    "        radius=1000, types=[types.TYPE_RESTAURANT])\n",
    "\n",
    "    places = []\n",
    "    for place in query_result.places:\n",
    "        place.get_details()\n",
    "        places.append({\"name\": place.name,\n",
    "                       \"address\": place.formatted_address,\n",
    "                       \"local_phone_number\": place.local_phone_number,\n",
    "                       \"international_phone_number\": place.international_phone_number})\n",
    "    return places\n",
    "\n",
    "def send_data_to_kinesis(kinesis_client, stream_name, restaurants):\n",
    "    for restaurant in restaurants:\n",
    "        partition_key = restaurant['name']\n",
    "        data = json.dumps(restaurant) + '\\n'\n",
    "        encoded_data = data.encode('utf-8')\n",
    "        kinesis_client.put_record(StreamName=stream_name, Data=encoded_data, PartitionKey=partition_key)\n",
    "\n",
    "if __name__ == '__main__':\n",
    "    kinesis_client = boto3.client('kinesis', region_name=REGION_NAME, aws_access_key_id=AWS_ACCESS_KEY_ID, aws_secret_access_key=AWS_SECRET_ACCESS_KEY)\n",
    "    stream_name = 'stream_name'  # Replace with your Kinesis Stream name\n",
    "\n",
    "    restaurants = get_restaurant_data()\n",
    "    send_data_to_kinesis(kinesis_client, stream_name, restaurants)"
   ]
  }
 ],
 "metadata": {
  "kernelspec": {
   "display_name": "Python 3 (ipykernel)",
   "language": "python",
   "name": "python3"
  },
  "language_info": {
   "codemirror_mode": {
    "name": "ipython",
    "version": 3
   },
   "file_extension": ".py",
   "mimetype": "text/x-python",
   "name": "python",
   "nbconvert_exporter": "python",
   "pygments_lexer": "ipython3",
   "version": "3.9.13"
  }
 },
 "nbformat": 4,
 "nbformat_minor": 5
}
