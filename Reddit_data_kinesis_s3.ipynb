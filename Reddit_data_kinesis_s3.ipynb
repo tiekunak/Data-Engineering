{
 "cells": [
  {
   "cell_type": "code",
   "execution_count": null,
   "id": "2bf47bba",
   "metadata": {},
   "outputs": [],
   "source": [
    "import json\n",
    "import boto3\n",
    "import praw\n",
    "import pandas as pd\n",
    "\n",
    "# Replace with your AWS credentials and Reddit API credentials\n",
    "AWS_ACCESS_KEY_ID = 'access_key'\n",
    "AWS_SECRET_ACCESS_KEY = 'secret_access_key'\n",
    "REGION_NAME = 'region_name'\n",
    "\n",
    "reddit = praw.Reddit(client_id='client_id_key',\n",
    "                     client_secret='client_secret_key',\n",
    "                     user_agent='testapp')\n",
    "\n",
    "def get_reddit_posts():\n",
    "    posts = []\n",
    "    ml_subreddit = reddit.subreddit('London')\n",
    "    for post in ml_subreddit.hot(limit=10):\n",
    "        posts.append([post.title, post.score, post.id, post.subreddit.display_name, post.url, post.num_comments, post.selftext, post.created])\n",
    "    posts = pd.DataFrame(posts,columns=['title', 'score', 'id', 'subreddit', 'url', 'num_comments', 'body', 'created'])\n",
    "    return posts.to_dict('records')\n",
    "\n",
    "\n",
    "def send_data_to_kinesis(kinesis_client, stream_name, reddit_posts):\n",
    "    for post in reddit_posts:\n",
    "        partition_key = post['id']\n",
    "        data = json.dumps(post) + '\\n'\n",
    "        encoded_data = data.encode('utf-8')\n",
    "        kinesis_client.put_record(StreamName=stream_name, Data=encoded_data, PartitionKey=partition_key)\n",
    "\n",
    "if __name__ == '__main__':\n",
    "    kinesis_client = boto3.client('kinesis', region_name=REGION_NAME, aws_access_key_id=AWS_ACCESS_KEY_ID, aws_secret_access_key=AWS_SECRET_ACCESS_KEY)\n",
    "    stream_name = 'streaming_name'  \n",
    "\n",
    "    reddit_posts = get_reddit_posts()\n",
    "    send_data_to_kinesis(kinesis_client, stream_name, reddit_posts)"
   ]
  }
 ],
 "metadata": {
  "kernelspec": {
   "display_name": "Python 3 (ipykernel)",
   "language": "python",
   "name": "python3"
  },
  "language_info": {
   "codemirror_mode": {
    "name": "ipython",
    "version": 3
   },
   "file_extension": ".py",
   "mimetype": "text/x-python",
   "name": "python",
   "nbconvert_exporter": "python",
   "pygments_lexer": "ipython3",
   "version": "3.9.13"
  }
 },
 "nbformat": 4,
 "nbformat_minor": 5
}
